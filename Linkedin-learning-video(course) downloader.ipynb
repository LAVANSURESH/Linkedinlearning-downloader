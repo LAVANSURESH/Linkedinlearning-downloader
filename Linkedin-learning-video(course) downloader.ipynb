{
  "nbformat": 4,
  "nbformat_minor": 0,
  "metadata": {
    "colab": {
      "name": "Untitled0.ipynb",
      "provenance": [],
      "collapsed_sections": [],
      "mount_file_id": "1KpFgobR1CqnkfPCKUTVCD06aF4Bi6GxQ",
      "authorship_tag": "ABX9TyPQjFMfzex5xxnjUOuF2Iq4",
      "include_colab_link": true
    },
    "kernelspec": {
      "name": "python3",
      "display_name": "Python 3"
    },
    "language_info": {
      "name": "python"
    }
  },
  "cells": [
    {
      "cell_type": "markdown",
      "metadata": {
        "id": "view-in-github",
        "colab_type": "text"
      },
      "source": [
        "<a href=\"https://colab.research.google.com/github/LAVANSURESH/Linkedinlearning-downloader/blob/main/Linkedin-learning-video(course)%20downloader.ipynb\" target=\"_parent\"><img src=\"https://colab.research.google.com/assets/colab-badge.svg\" alt=\"Open In Colab\"/></a>"
      ]
    },
    {
      "cell_type": "code",
      "metadata": {
        "cellView": "form",
        "id": "eSY-PA0iUR4z"
      },
      "source": [
        "#@title RUN THIS CELL TO MOUNT YOUR DRIVE (In which you want to save the course)\n",
        "from google.colab import drive\n",
        "drive.mount('/content/drive', force_remount=True)"
      ],
      "execution_count": null,
      "outputs": []
    },
    {
      "cell_type": "code",
      "metadata": {
        "cellView": "form",
        "id": "tWA-MVD8Kes1"
      },
      "source": [
        "import os\n",
        "output_dir =\"\" #@param {type:\"string\"}\n",
        "os.environ[\"output_dir\"] = output_dir\n",
        "\n",
        "courseslug = \"\" #@param {type:\"string\"}\n",
        "os.environ[\"courseslug\"] = courseslug\n",
        "\n",
        "li_at = \"\" #@param {type:\"string\"}\n",
        "os.environ[\"token\"] = li_at\n",
        "\n",
        "JSESSIONID =\"\"#@param {type:\"string\"}\n",
        "os.environ[\"JSESSIONID\"] = JSESSIONID\n",
        "\n",
        "Quality = \"\" #@param {type:\"string\"}\n",
        "os.environ[\"quality\"] = Quality\n",
        "\n",
        "%cd \"$output_dir\"\n",
        "!pip install llvd\n",
        "!echo li_at=\"$li_at\" >> cookies.txt\n",
        "!echo JSESSIONID=\"$JSESSIONID\" >> cookies.txt\n",
        "!llvd --course \"$courseslug\" -r \"$quality\" --cookies -ca\n"
      ],
      "execution_count": null,
      "outputs": []
    }
  ]
}